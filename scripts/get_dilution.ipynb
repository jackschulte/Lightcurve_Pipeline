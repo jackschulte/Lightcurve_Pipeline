{
 "cells": [
  {
   "cell_type": "code",
   "execution_count": 2,
   "metadata": {},
   "outputs": [],
   "source": [
    "import astropy.units as u\n",
    "import numpy as np\n",
    "from astroquery.vizier import Vizier\n",
    "import pandas as pd"
   ]
  },
  {
   "cell_type": "code",
   "execution_count": 36,
   "metadata": {},
   "outputs": [],
   "source": [
    "def grab_dilution_prior(ticid):\n",
    "    '''\n",
    "    ticid: string containing the target's TIC ID. E.g. 'TIC 129004637' or '129004637'\n",
    "    '''\n",
    "    if ticid[:3] != 'TIC':\n",
    "        ticid = 'TIC ' + ticid # adding 'TIC ' to the front of the ticid for Vizier to understand\n",
    "\n",
    "    columns = ['TIC', 'Rcont']\n",
    "    Vizier_search = Vizier(columns=columns)\n",
    "    result = Vizier_search.query_object(ticid, catalog='IV/39/tic82', radius=2 * u.arcsec)[0]\n",
    "    target_df = result.to_pandas()\n",
    "    contam_ratio = target_df.Rcont[0]\n",
    "    dilute_sigma = 0.1 * (contam_ratio / (1 + contam_ratio))\n",
    "    print(f'Dilution prior: 0.0 +/- {np.round(dilute_sigma, 7)}')"
   ]
  },
  {
   "cell_type": "code",
   "execution_count": 37,
   "metadata": {},
   "outputs": [
    {
     "name": "stdout",
     "output_type": "stream",
     "text": [
      "Dilution prior: 0.0 +/- 0.0085672\n"
     ]
    }
   ],
   "source": [
    "ticid = '129004637'\n",
    "grab_dilution_prior(ticid=ticid)"
   ]
  },
  {
   "cell_type": "code",
   "execution_count": null,
   "metadata": {},
   "outputs": [],
   "source": []
  }
 ],
 "metadata": {
  "kernelspec": {
   "display_name": "research",
   "language": "python",
   "name": "python3"
  },
  "language_info": {
   "codemirror_mode": {
    "name": "ipython",
    "version": 3
   },
   "file_extension": ".py",
   "mimetype": "text/x-python",
   "name": "python",
   "nbconvert_exporter": "python",
   "pygments_lexer": "ipython3",
   "version": "3.10.0"
  }
 },
 "nbformat": 4,
 "nbformat_minor": 2
}
