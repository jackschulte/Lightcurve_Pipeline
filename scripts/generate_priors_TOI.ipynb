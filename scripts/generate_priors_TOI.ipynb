{
 "cells": [
  {
   "cell_type": "code",
   "execution_count": 1,
   "metadata": {},
   "outputs": [],
   "source": [
    "import astropy.units as u\n",
    "import numpy as np\n",
    "from astroquery.vizier import Vizier\n",
    "import pandas as pd\n",
    "\n",
    "import numpy as np \n",
    "import pandas as pd\n",
    "import astropy.units as u\n",
    "import requests"
   ]
  },
  {
   "cell_type": "code",
   "execution_count": 2,
   "metadata": {},
   "outputs": [],
   "source": [
    "def grab_dilution(ticid):\n",
    "    '''\n",
    "    ticid: string containing the target's TIC ID. E.g. 'TIC 129004637' or '129004637'\n",
    "    '''\n",
    "    if ticid[:3] != 'TIC':\n",
    "        ticid = 'TIC ' + ticid # adding 'TIC ' to the front of the ticid for Vizier to understand\n",
    "\n",
    "    columns = ['TIC', 'Rcont']\n",
    "    Vizier_search = Vizier(columns=columns)\n",
    "    result = Vizier_search.query_object(ticid, catalog='IV/39/tic82', radius=2 * u.arcsec)[0]\n",
    "    target_df = result.to_pandas()\n",
    "    contam_ratio = target_df.Rcont[0]\n",
    "    dilute_sigma = 0.1 * (contam_ratio / (1 + contam_ratio))\n",
    "    print(f'Dilution prior: 0.0 +/- {np.round(dilute_sigma, 7)}')\n",
    "\n",
    "    return dilute_sigma\n",
    "\n",
    "def grab_metallicity(ticid, sigma=1, weighted=True):\n",
    "    '''\n",
    "    Generates a metallicity prior from the mean and standard deviation of spectroscopic metallicities available on ExoFOP.\n",
    "\n",
    "    TICID: The object's TESS Input Catalog identifier. Ex: for TIC 81247740, enter '81247740'\n",
    "    sigma: The number of standard deviations that you would like as your prior width.\n",
    "    weighted: boolean to choose whether or not the average metallicity is weighted by the SNR of the spectrum\n",
    "    '''\n",
    "\n",
    "    url = 'https://exofop.ipac.caltech.edu/tess/target.php?id=' + ticid + '&json'\n",
    "    page = requests.get(url)\n",
    "\n",
    "    n_feh = page.json()['stellar_parameters'][4]['prov_num']\n",
    "\n",
    "    feh = []\n",
    "    snr = []\n",
    "    for i in range(int(n_feh)):\n",
    "        feh.append(float(page.json()['stellar_parameters'][5+i]['met']))\n",
    "        snr.append(float(page.json()['stellar_parameters'][5+i]['snr']))\n",
    "    feh = np.array(feh)\n",
    "    snr = np.array(snr)\n",
    "\n",
    "    if weighted==False:\n",
    "        mean_feh = feh.mean()\n",
    "    elif weighted==True:\n",
    "        mean_feh = np.average(feh, weights=snr)\n",
    "    width = sigma * np.std(feh)\n",
    "    print(f'Spectroscopic [Fe/H] prior: {np.round(mean_feh, 4)} +/- {np.round(width,4)}')\n",
    "\n",
    "    return mean_feh, width\n",
    "\n",
    "def grab_all_priors(TOI, feh_sigma=1, feh_weighted=True):\n",
    "    '''\n",
    "    Grabs metallicity and dilution priors and ephemeris starting points for a given TOI and outputs it into a text file in EXOFASTv2 format.\n",
    "\n",
    "    TOI: the TOI identifier for the target. E.g. 'TOI-3919'\n",
    "    feh_sigma: the number of standard deviations to use as your metallicity prior width\n",
    "    feh_weighted: whether or not to weight your average metallicity by the spectral SNR\n",
    "    '''\n",
    "\n",
    "    # Collect TICID and starting points\n",
    "    url=\"https://exofop.ipac.caltech.edu/tess/download_toi.php?sort=toi&output=pipe\"\n",
    "    TOI_df=pd.read_csv(url, delimiter='|', index_col=1)\n",
    "    TOI_id = TOI.replace('TOI-','') + '.01'\n",
    "    ticid = 'TIC ' + str(TOI_df.loc[float(TOI_id)]['TIC ID'])\n",
    "\n",
    "    depth = TOI_df.loc[float(TOI_id)]['Depth (ppm)']\n",
    "\n",
    "    period = TOI_df.loc[float(TOI_id)]['Period (days)']\n",
    "    tc = TOI_df.loc[float(TOI_id)]['Epoch (BJD)']\n",
    "    rp_rstar = np.sqrt(depth * 10**(-6))\n",
    "\n",
    "    print(f'Starting points:\\nTc = {tc}\\nPeriod = {period}\\nRp/Rs = {rp_rstar}')\n",
    "    feh, feh_width = grab_metallicity(ticid, sigma=feh_sigma, weighted=feh_weighted)\n",
    "    dilute_sigma = grab_dilution(ticid)\n",
    "\n",
    "    priorstring = f'# spectroscopic metallicity\\nfeh {feh} {feh_width}\\n# b\\ntc_0 {tc}\\nperiod_0 {period}\\np_0 {rp_rstar}\\ncosi_0 0.001\\n# dilution\\ndilute_0 0.0 {dilute_sigma}'\n",
    "\n",
    "    with open(f'priors_{TOI}.txt', \"w\") as text_file:\n",
    "        text_file.write(priorstring)"
   ]
  },
  {
   "cell_type": "code",
   "execution_count": 3,
   "metadata": {},
   "outputs": [
    {
     "name": "stdout",
     "output_type": "stream",
     "text": [
      "Starting points:\n",
      "Tc = 2459985.848349\n",
      "Period = 6.9615164\n",
      "Rp/Rs = 0.08057294831393474\n",
      "Spectroscopic [Fe/H] prior: 0.2511 +/- 0.0778\n",
      "Dilution prior: 0.0 +/- 0.0166389\n"
     ]
    }
   ],
   "source": [
    "grab_all_priors('TOI-6420')"
   ]
  },
  {
   "cell_type": "code",
   "execution_count": null,
   "metadata": {},
   "outputs": [],
   "source": []
  }
 ],
 "metadata": {
  "kernelspec": {
   "display_name": "research",
   "language": "python",
   "name": "python3"
  },
  "language_info": {
   "codemirror_mode": {
    "name": "ipython",
    "version": 3
   },
   "file_extension": ".py",
   "mimetype": "text/x-python",
   "name": "python",
   "nbconvert_exporter": "python",
   "pygments_lexer": "ipython3",
   "version": "3.10.14"
  }
 },
 "nbformat": 4,
 "nbformat_minor": 2
}
