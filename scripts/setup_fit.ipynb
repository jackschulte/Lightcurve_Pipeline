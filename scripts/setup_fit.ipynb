{
 "cells": [
  {
   "cell_type": "code",
   "execution_count": 1,
   "metadata": {},
   "outputs": [],
   "source": [
    "import astropy.units as u\n",
    "\n",
    "from generate_priors_TOI import grab_all_priors\n",
    "from RV_mini_pipeline import remake_rvfile"
   ]
  },
  {
   "cell_type": "code",
   "execution_count": 2,
   "metadata": {},
   "outputs": [
    {
     "name": "stdout",
     "output_type": "stream",
     "text": [
      "Starting points:\n",
      "Tc = 2459985.848349\n",
      "Period = 6.9615164\n",
      "Rp/Rs = 0.08057294831393474\n",
      "Spectroscopic [Fe/H] prior: 0.2511 +/- 0.0778\n",
      "Dilution prior: 0.0 +/- 0.0166389\n"
     ]
    }
   ],
   "source": [
    "grab_all_priors('TOI-6420')"
   ]
  },
  {
   "cell_type": "code",
   "execution_count": null,
   "metadata": {},
   "outputs": [],
   "source": [
    "path = '/Users/jack/Research/meep2/toi6420/toi6420.rv'\n",
    "outpath = '/Users/jack/Research/meep2/toi6420/'\n",
    "\n",
    "remake_rvfile(path, u.m/u.s, output_filename=outpath+'toi6420.rv')"
   ]
  },
  {
   "cell_type": "code",
   "execution_count": null,
   "metadata": {},
   "outputs": [],
   "source": []
  }
 ],
 "metadata": {
  "kernelspec": {
   "display_name": "research",
   "language": "python",
   "name": "python3"
  },
  "language_info": {
   "codemirror_mode": {
    "name": "ipython",
    "version": 3
   },
   "file_extension": ".py",
   "mimetype": "text/x-python",
   "name": "python",
   "nbconvert_exporter": "python",
   "pygments_lexer": "ipython3",
   "version": "3.10.14"
  }
 },
 "nbformat": 4,
 "nbformat_minor": 2
}
